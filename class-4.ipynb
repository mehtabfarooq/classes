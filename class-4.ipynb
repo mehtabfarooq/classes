{
 "cells": [
  {
   "cell_type": "markdown",
   "id": "6a2be898",
   "metadata": {},
   "source": [
    "### List"
   ]
  },
  {
   "cell_type": "code",
   "execution_count": 1,
   "id": "05cbe9de",
   "metadata": {},
   "outputs": [],
   "source": [
    "cities = [\"city1\", \"city2\", \"city3\", \"city4\", \"city5\", \"city6\", \"city7\"]"
   ]
  },
  {
   "cell_type": "code",
   "execution_count": 2,
   "id": "2eb9793e",
   "metadata": {},
   "outputs": [
    {
     "data": {
      "text/plain": [
       "['city1', 'city2', 'city3', 'city4', 'city5', 'city6', 'city7']"
      ]
     },
     "execution_count": 2,
     "metadata": {},
     "output_type": "execute_result"
    }
   ],
   "source": [
    "cities"
   ]
  },
  {
   "cell_type": "code",
   "execution_count": 3,
   "id": "0fa396b4",
   "metadata": {},
   "outputs": [],
   "source": [
    "shallowCities = cities.copy()"
   ]
  },
  {
   "cell_type": "code",
   "execution_count": 4,
   "id": "81fff6d9",
   "metadata": {},
   "outputs": [
    {
     "data": {
      "text/plain": [
       "['city1', 'city2', 'city3', 'city4', 'city5', 'city6', 'city7']"
      ]
     },
     "execution_count": 4,
     "metadata": {},
     "output_type": "execute_result"
    }
   ],
   "source": [
    "shallowCities"
   ]
  },
  {
   "cell_type": "code",
   "execution_count": 5,
   "id": "03a2802f",
   "metadata": {},
   "outputs": [],
   "source": [
    "cities.append('city8')"
   ]
  },
  {
   "cell_type": "code",
   "execution_count": 6,
   "id": "bbf4d5f8",
   "metadata": {},
   "outputs": [
    {
     "data": {
      "text/plain": [
       "['city1', 'city2', 'city3', 'city4', 'city5', 'city6', 'city7', 'city8']"
      ]
     },
     "execution_count": 6,
     "metadata": {},
     "output_type": "execute_result"
    }
   ],
   "source": [
    "cities"
   ]
  },
  {
   "cell_type": "code",
   "execution_count": 7,
   "id": "3c05fed3",
   "metadata": {},
   "outputs": [
    {
     "data": {
      "text/plain": [
       "['city1', 'city2', 'city3', 'city4', 'city5', 'city6', 'city7']"
      ]
     },
     "execution_count": 7,
     "metadata": {},
     "output_type": "execute_result"
    }
   ],
   "source": [
    "shallowCities"
   ]
  },
  {
   "cell_type": "code",
   "execution_count": 8,
   "id": "497b0e18",
   "metadata": {},
   "outputs": [],
   "source": [
    "deepCities = cities"
   ]
  },
  {
   "cell_type": "code",
   "execution_count": 9,
   "id": "c895ff62",
   "metadata": {},
   "outputs": [
    {
     "data": {
      "text/plain": [
       "['city1', 'city2', 'city3', 'city4', 'city5', 'city6', 'city7', 'city8']"
      ]
     },
     "execution_count": 9,
     "metadata": {},
     "output_type": "execute_result"
    }
   ],
   "source": [
    "deepCities"
   ]
  },
  {
   "cell_type": "code",
   "execution_count": 10,
   "id": "c6792435",
   "metadata": {},
   "outputs": [],
   "source": [
    "cities.append('City9')"
   ]
  },
  {
   "cell_type": "code",
   "execution_count": 11,
   "id": "2a12b030",
   "metadata": {},
   "outputs": [
    {
     "data": {
      "text/plain": [
       "['city1',\n",
       " 'city2',\n",
       " 'city3',\n",
       " 'city4',\n",
       " 'city5',\n",
       " 'city6',\n",
       " 'city7',\n",
       " 'city8',\n",
       " 'City9']"
      ]
     },
     "execution_count": 11,
     "metadata": {},
     "output_type": "execute_result"
    }
   ],
   "source": [
    "deepCities"
   ]
  },
  {
   "cell_type": "code",
   "execution_count": 15,
   "id": "fa2c36b6",
   "metadata": {},
   "outputs": [
    {
     "name": "stdout",
     "output_type": "stream",
     "text": [
      "2298912614912\n",
      "2298911263808\n",
      "2298912614912\n"
     ]
    }
   ],
   "source": [
    "print(id(cities))\n",
    "print(id(shallowCities))\n",
    "print(id(deepCities))"
   ]
  },
  {
   "cell_type": "markdown",
   "id": "73db965d",
   "metadata": {},
   "source": [
    "Reverse complete list cities[::-1]"
   ]
  },
  {
   "cell_type": "code",
   "execution_count": 18,
   "id": "4cf7c3e0",
   "metadata": {},
   "outputs": [],
   "source": [
    "students = [\"student1\", \"student2\", \"student3\", \"student4\", \"student5\", \"student6\", \"student7\"]"
   ]
  },
  {
   "cell_type": "code",
   "execution_count": 19,
   "id": "0ff200e9",
   "metadata": {},
   "outputs": [],
   "source": [
    "students.append('student8')"
   ]
  },
  {
   "cell_type": "code",
   "execution_count": 20,
   "id": "9ee4ee69",
   "metadata": {},
   "outputs": [
    {
     "data": {
      "text/plain": [
       "['student1',\n",
       " 'student2',\n",
       " 'student3',\n",
       " 'student4',\n",
       " 'student5',\n",
       " 'student6',\n",
       " 'student7',\n",
       " 'student8']"
      ]
     },
     "execution_count": 20,
     "metadata": {},
     "output_type": "execute_result"
    }
   ],
   "source": [
    "students"
   ]
  },
  {
   "cell_type": "code",
   "execution_count": 21,
   "id": "56b66609",
   "metadata": {},
   "outputs": [
    {
     "data": {
      "text/plain": [
       "1"
      ]
     },
     "execution_count": 21,
     "metadata": {},
     "output_type": "execute_result"
    }
   ],
   "source": [
    "students.count('student2')"
   ]
  },
  {
   "cell_type": "code",
   "execution_count": 25,
   "id": "504d5d93",
   "metadata": {},
   "outputs": [],
   "source": [
    "students.extend('student9')"
   ]
  },
  {
   "cell_type": "code",
   "execution_count": 56,
   "id": "4a674fcc",
   "metadata": {},
   "outputs": [],
   "source": [
    "students.extend(['student8', 'student9', 'student10'])"
   ]
  },
  {
   "cell_type": "code",
   "execution_count": 57,
   "id": "9e7410eb",
   "metadata": {},
   "outputs": [
    {
     "data": {
      "text/plain": [
       "['student1',\n",
       " 'student2',\n",
       " 'student3',\n",
       " 'student4',\n",
       " 'student5',\n",
       " 'student6',\n",
       " 'student7',\n",
       " 'student8',\n",
       " 'student9',\n",
       " 'student10']"
      ]
     },
     "execution_count": 57,
     "metadata": {},
     "output_type": "execute_result"
    }
   ],
   "source": [
    "students"
   ]
  },
  {
   "cell_type": "code",
   "execution_count": 58,
   "id": "3be94e4f",
   "metadata": {},
   "outputs": [
    {
     "data": {
      "text/plain": [
       "7"
      ]
     },
     "execution_count": 58,
     "metadata": {},
     "output_type": "execute_result"
    }
   ],
   "source": [
    "students.index('student8')"
   ]
  },
  {
   "cell_type": "code",
   "execution_count": 59,
   "id": "598c7453",
   "metadata": {},
   "outputs": [],
   "source": [
    "students.insert(7, 'student11')"
   ]
  },
  {
   "cell_type": "code",
   "execution_count": 60,
   "id": "8f493ef4",
   "metadata": {},
   "outputs": [
    {
     "data": {
      "text/plain": [
       "['student1',\n",
       " 'student2',\n",
       " 'student3',\n",
       " 'student4',\n",
       " 'student5',\n",
       " 'student6',\n",
       " 'student7',\n",
       " 'student11',\n",
       " 'student8',\n",
       " 'student9',\n",
       " 'student10']"
      ]
     },
     "execution_count": 60,
     "metadata": {},
     "output_type": "execute_result"
    }
   ],
   "source": [
    "students"
   ]
  },
  {
   "cell_type": "code",
   "execution_count": 61,
   "id": "a13f20fa",
   "metadata": {},
   "outputs": [],
   "source": [
    "newTuple = ('tupleValue1', 'tupleValue2', 'tupleValue3')"
   ]
  },
  {
   "cell_type": "code",
   "execution_count": 63,
   "id": "f60eccfb",
   "metadata": {},
   "outputs": [
    {
     "data": {
      "text/plain": [
       "1"
      ]
     },
     "execution_count": 63,
     "metadata": {},
     "output_type": "execute_result"
    }
   ],
   "source": [
    "newTuple.count(\"tupleValue3\")"
   ]
  },
  {
   "cell_type": "code",
   "execution_count": 65,
   "id": "6a941996",
   "metadata": {},
   "outputs": [
    {
     "data": {
      "text/plain": [
       "2"
      ]
     },
     "execution_count": 65,
     "metadata": {},
     "output_type": "execute_result"
    }
   ],
   "source": [
    "newTuple.index(\"tupleValue3\")"
   ]
  },
  {
   "cell_type": "code",
   "execution_count": 66,
   "id": "6c6ceafa",
   "metadata": {},
   "outputs": [],
   "source": [
    "newSet = {'setValue1','setValue2', 'setValue3'}"
   ]
  },
  {
   "cell_type": "code",
   "execution_count": 67,
   "id": "8d59a9f0",
   "metadata": {},
   "outputs": [],
   "source": [
    "newSet.add('setValue4')"
   ]
  },
  {
   "cell_type": "code",
   "execution_count": 68,
   "id": "e33320bc",
   "metadata": {},
   "outputs": [
    {
     "data": {
      "text/plain": [
       "{'setValue1', 'setValue2', 'setValue3', 'setValue4'}"
      ]
     },
     "execution_count": 68,
     "metadata": {},
     "output_type": "execute_result"
    }
   ],
   "source": [
    "newSet"
   ]
  },
  {
   "cell_type": "code",
   "execution_count": 69,
   "id": "663ddab9",
   "metadata": {},
   "outputs": [],
   "source": [
    "set2 = {'setValue4','setValue5', 'setValue6'}"
   ]
  },
  {
   "cell_type": "code",
   "execution_count": 70,
   "id": "1af7415b",
   "metadata": {},
   "outputs": [
    {
     "data": {
      "text/plain": [
       "{'setValue4', 'setValue5', 'setValue6'}"
      ]
     },
     "execution_count": 70,
     "metadata": {},
     "output_type": "execute_result"
    }
   ],
   "source": [
    "set2"
   ]
  },
  {
   "cell_type": "code",
   "execution_count": 71,
   "id": "52afb314",
   "metadata": {},
   "outputs": [
    {
     "name": "stdout",
     "output_type": "stream",
     "text": [
      "{'setValue3', 'setValue2', 'setValue1'}\n"
     ]
    }
   ],
   "source": [
    "print(newSet - set2)"
   ]
  },
  {
   "cell_type": "code",
   "execution_count": null,
   "id": "e8d27391",
   "metadata": {},
   "outputs": [],
   "source": []
  }
 ],
 "metadata": {
  "kernelspec": {
   "display_name": "base",
   "language": "python",
   "name": "python3"
  },
  "language_info": {
   "codemirror_mode": {
    "name": "ipython",
    "version": 3
   },
   "file_extension": ".py",
   "mimetype": "text/x-python",
   "name": "python",
   "nbconvert_exporter": "python",
   "pygments_lexer": "ipython3",
   "version": "3.13.5"
  }
 },
 "nbformat": 4,
 "nbformat_minor": 5
}
